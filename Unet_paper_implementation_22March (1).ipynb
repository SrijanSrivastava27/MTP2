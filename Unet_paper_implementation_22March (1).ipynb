{
  "cells": [
    {
      "cell_type": "code",
      "execution_count": null,
      "metadata": {
        "id": "UTyadF3sgZG3"
      },
      "outputs": [],
      "source": [
        "import torch\n",
        "import torch.nn as nn\n",
        "import torch.optim as optim\n",
        "import torchvision.transforms as transforms\n",
        "from torchvision.datasets import MNIST\n",
        "from torch.utils.data import DataLoader, SubsetRandomSampler\n",
        "import numpy as np\n",
        "import cv2\n",
        "import matplotlib.pyplot as plt\n",
        "import torch.nn.functional as F"
      ]
    },
    {
      "cell_type": "code",
      "execution_count": null,
      "metadata": {
        "id": "dYp9z77HgbQJ"
      },
      "outputs": [],
      "source": [
        "class UNet(nn.Module):\n",
        "    def __init__(self):\n",
        "        super(UNet, self).__init__()\n",
        "        self.encoder1 = nn.Sequential(\n",
        "            nn.Conv2d(1, 64, kernel_size=3, padding=1), nn.ReLU(),\n",
        "            nn.Conv2d(64, 64, kernel_size=3, padding=1), nn.ReLU()\n",
        "        )\n",
        "        self.pool1 = nn.MaxPool2d(2, 2)\n",
        "\n",
        "        self.encoder2 = nn.Sequential(\n",
        "            nn.Conv2d(64, 128, kernel_size=3, padding=1), nn.ReLU(),\n",
        "            nn.Conv2d(128, 128, kernel_size=3, padding=1), nn.ReLU()\n",
        "        )\n",
        "        self.pool2 = nn.MaxPool2d(2, 2)\n",
        "\n",
        "        self.bottleneck = nn.Sequential(\n",
        "            nn.Conv2d(128, 256, kernel_size=3, padding=1), nn.ReLU(),\n",
        "            nn.Conv2d(256, 256, kernel_size=3, padding=1), nn.ReLU()\n",
        "        )\n",
        "\n",
        "        self.upconv2 = nn.ConvTranspose2d(256, 128, kernel_size=2, stride=2)\n",
        "        self.decoder2 = nn.Sequential(\n",
        "            nn.Conv2d(256, 128, kernel_size=3, padding=1), nn.ReLU(),\n",
        "            nn.Conv2d(128, 128, kernel_size=3, padding=1), nn.ReLU()\n",
        "        )\n",
        "\n",
        "        self.upconv1 = nn.ConvTranspose2d(128, 64, kernel_size=2, stride=2)\n",
        "        self.decoder1 = nn.Sequential(\n",
        "            nn.Conv2d(128, 64, kernel_size=3, padding=1), nn.ReLU(),\n",
        "            nn.Conv2d(64, 64, kernel_size=3, padding=1), nn.ReLU()\n",
        "        )\n",
        "\n",
        "        self.final = nn.Conv2d(64, 1, kernel_size=1)\n",
        "\n",
        "    def forward(self, x):\n",
        "        print_shape = 0\n",
        "        print_example = 0\n",
        "        enc1 = self.encoder1(x)\n",
        "        pool1 = self.pool1(enc1)\n",
        "        enc2 = self.encoder2(pool1)\n",
        "        pool2 = self.pool2(enc2)\n",
        "\n",
        "        bottleneck = self.bottleneck(pool2)\n",
        "\n",
        "        up2 = self.upconv2(bottleneck)\n",
        "        dec2 = self.decoder2(torch.cat([up2, enc2], dim=1))\n",
        "\n",
        "        up1 = self.upconv1(dec2)\n",
        "        dec1 = self.decoder1(torch.cat([up1, enc1], dim=1))\n",
        "        if print_shape:\n",
        "          print('x',x[0,0].shape)\n",
        "          print('enc1',enc1[0,0].shape)\n",
        "          print('pool1',pool1[0,0].shape)\n",
        "          print('enc2',enc2[0,0].shape)\n",
        "          print('pool2',pool2[0,0].shape)\n",
        "          print('bottleneck',bottleneck.shape)\n",
        "          print('up2',up2.shape)\n",
        "          print('dec2',dec2.shape)\n",
        "          print('up1',up1.shape)\n",
        "          print('dec1',dec1.shape)\n",
        "\n",
        "        # print('blurred_blah', type(x))\n",
        "\n",
        "        if print_example:\n",
        "          fig, axes = plt.subplots(1, 10, figsize=(50, 5))\n",
        "\n",
        "          axes[0].imshow(x[0, 0].detach().cpu(), cmap='gray')\n",
        "          axes[0].set_title(\"x[0,0]\")\n",
        "\n",
        "          axes[1].imshow(enc1[0, 0].detach().cpu(), cmap='gray')\n",
        "          axes[1].set_title(\"enc1[0,0]\")\n",
        "\n",
        "          axes[2].imshow(pool1[0, 0].detach().cpu(), cmap='gray')\n",
        "          axes[2].set_title(\"pool1[0,0]\")\n",
        "\n",
        "          axes[3].imshow(enc2[0, 0].detach().cpu(), cmap='gray')\n",
        "          axes[3].set_title(\"enc2[0,0]\")\n",
        "\n",
        "          axes[4].imshow(pool2[0, 0].detach().cpu(), cmap='gray')\n",
        "          axes[4].set_title(\"pool2[0,0]\")\n",
        "\n",
        "          axes[5].imshow(bottleneck[0, 0].detach().cpu(), cmap='gray')\n",
        "          axes[5].set_title(\"bottleneck[0,0]\")\n",
        "\n",
        "          axes[6].imshow(up2[0, 0].detach().cpu(), cmap='gray')\n",
        "          axes[6].set_title(\"up2[0,0]\")\n",
        "\n",
        "          axes[7].imshow(dec2[0, 0].detach().cpu(), cmap='gray')\n",
        "          axes[7].set_title(\"dec2[0,0]\")\n",
        "\n",
        "          axes[8].imshow(up1[0, 0].detach().cpu(), cmap='gray')\n",
        "          axes[8].set_title(\"up1[0,0]\")\n",
        "\n",
        "          axes[9].imshow(dec1[0, 0].detach().cpu(), cmap='gray')\n",
        "          axes[9].set_title(\"dec1[0,0]\")\n",
        "\n",
        "\n",
        "          plt.tight_layout()\n",
        "          plt.show()\n",
        "\n",
        "        return self.final(dec1)"
      ]
    },
    {
      "cell_type": "code",
      "source": [
        "kernel_size = 5"
      ],
      "metadata": {
        "id": "ik074swhbPGQ"
      },
      "execution_count": null,
      "outputs": []
    },
    {
      "cell_type": "code",
      "execution_count": null,
      "metadata": {
        "id": "cCDDuzRBgczy"
      },
      "outputs": [],
      "source": [
        "def apply_gaussian_blur(img, sigma, kernel_size):\n",
        "    device = img.device  # Store the original device\n",
        "    img = img.squeeze(0).detach().cpu().numpy() #SHape is now 28x28\n",
        "    img = cv2.GaussianBlur(img, (kernel_size, kernel_size), sigmaX=sigma, sigmaY=sigma, borderType= cv2.BORDER_CONSTANT)\n",
        "    img = torch.tensor(img, dtype=torch.float32).unsqueeze(0).to(device)  # Restore shape with correct device\n",
        "    img.requires_grad = True\n",
        "    return img"
      ]
    },
    {
      "cell_type": "code",
      "execution_count": null,
      "metadata": {
        "colab": {
          "base_uri": "https://localhost:8080/"
        },
        "collapsed": true,
        "id": "zqHNNIL3geSt",
        "outputId": "cf0dd4f3-e470-4d46-aff6-8c9db741f1d4"
      },
      "outputs": [
        {
          "output_type": "stream",
          "name": "stderr",
          "text": [
            "100%|██████████| 9.91M/9.91M [00:00<00:00, 15.1MB/s]\n",
            "100%|██████████| 28.9k/28.9k [00:00<00:00, 448kB/s]\n",
            "100%|██████████| 1.65M/1.65M [00:00<00:00, 4.13MB/s]\n",
            "100%|██████████| 4.54k/4.54k [00:00<00:00, 6.13MB/s]\n"
          ]
        }
      ],
      "source": [
        "transform_clean = transforms.Compose([transforms.ToTensor()])\n",
        "train_dataset = MNIST(root=\"./data\", train=True, transform=transform_clean, download=True)\n",
        "test_dataset = MNIST(root=\"./data\", train=False, transform=transform_clean, download=True)\n",
        "\n",
        "fraction = 1\n",
        "num_samples = len(train_dataset)\n",
        "indices = torch.arange(num_samples)[:int(fraction * num_samples)]\n",
        "\n",
        "sampler = SubsetRandomSampler(indices)\n",
        "\n",
        "\n",
        "train_loader = DataLoader(train_dataset, batch_size=32, shuffle=False, sampler = sampler)\n",
        "test_loader = DataLoader(test_dataset, batch_size=32, shuffle=False)"
      ]
    },
    {
      "cell_type": "code",
      "source": [
        "len(train_loader)"
      ],
      "metadata": {
        "colab": {
          "base_uri": "https://localhost:8080/"
        },
        "id": "HGA1N-AeEUCI",
        "outputId": "f3f8d80e-9708-47ee-8bce-a3ae47d56681"
      },
      "execution_count": null,
      "outputs": [
        {
          "output_type": "execute_result",
          "data": {
            "text/plain": [
              "1875"
            ]
          },
          "metadata": {},
          "execution_count": 6
        }
      ]
    },
    {
      "cell_type": "code",
      "source": [
        "torch.linalg.pinv(torch.tensor([[2,0,0],[0,2,0],[0,0,2]]).type(torch.float32))"
      ],
      "metadata": {
        "colab": {
          "base_uri": "https://localhost:8080/"
        },
        "id": "qAMm5XuTvwIj",
        "outputId": "b0a03624-06fb-49a6-9240-914a0a211637"
      },
      "execution_count": null,
      "outputs": [
        {
          "output_type": "execute_result",
          "data": {
            "text/plain": [
              "tensor([[0.5000, 0.0000, 0.0000],\n",
              "        [0.0000, 0.5000, 0.0000],\n",
              "        [0.0000, 0.0000, 0.5000]])"
            ]
          },
          "metadata": {},
          "execution_count": 7
        }
      ]
    },
    {
      "cell_type": "code",
      "source": [
        "#A is identity matrix\n",
        "sigma1 = 1\n",
        "sigma2 = 2\n",
        "x = torch.zeros(kernel_size, kernel_size)\n",
        "x[int(kernel_size/2), int(kernel_size/2)] = 1\n",
        "x = x.type(torch.float32)\n",
        "A_sigma1 = apply_gaussian_blur(x, sigma1, kernel_size)\n",
        "A_dagger1 = torch.linalg.pinv(A_sigma1)"
      ],
      "metadata": {
        "id": "XWdBdGUi1mUK"
      },
      "execution_count": null,
      "outputs": []
    },
    {
      "cell_type": "code",
      "execution_count": null,
      "metadata": {
        "id": "s-3XuV4RgfwR"
      },
      "outputs": [],
      "source": [
        "def loss_fn(output, target, measurement, blur_operator):\n",
        "    l_sup = torch.nn.functional.l1_loss(output, target) / (target.norm(p=1) + 1e-8)\n",
        "    blurred_output = blur_operator(output)\n",
        "    l_self = torch.nn.functional.l1_loss(measurement, blurred_output) / (measurement.norm(p=1) + 1e-8)\n",
        "    return l_sup + l_self"
      ]
    },
    {
      "cell_type": "code",
      "source": [
        "def loss_fn_no_TTT(output, target, measurement, blur_operator):\n",
        "    l_sup = torch.nn.functional.l1_loss(output, target) / (target.norm(p=1) + 1e-8)\n",
        "    return l_sup"
      ],
      "metadata": {
        "id": "Krj5xIpA18Xp"
      },
      "execution_count": null,
      "outputs": []
    },
    {
      "cell_type": "code",
      "source": [
        "torch.tensor([[[1]],[[2]]]).squeeze(1).shape"
      ],
      "metadata": {
        "colab": {
          "base_uri": "https://localhost:8080/"
        },
        "id": "XrQOWAdG7JvW",
        "outputId": "efac3538-73d2-40cb-b9b1-d56d23a157f1"
      },
      "execution_count": null,
      "outputs": [
        {
          "output_type": "execute_result",
          "data": {
            "text/plain": [
              "torch.Size([2, 1])"
            ]
          },
          "metadata": {},
          "execution_count": 11
        }
      ]
    },
    {
      "cell_type": "code",
      "source": [
        "def loss_with_A_dagger(output, target, measurement, blur_operator, A_dagger1):\n",
        "    # output = output\n",
        "    # target = clean_images\n",
        "    # measurement = blurred_images\n",
        "\n",
        "    # loss = loss_fn(outputs, clean_images, blurred_images, lambda x: torch.stack([apply_gaussian_blur(img, sigma=sigma1, kernel_size = kernel_size) for img in x]).cuda())\n",
        "    kernel_size = A_dagger1.shape[-1]  # Assuming square kernel\n",
        "    padding = (kernel_size - 1) // 2  # Compute the padding dynamically\n",
        "\n",
        "    # Reshape to match PyTorch's convolution format: (batch, channels, height, width)\n",
        "    A_dagger1 = A_dagger1.squeeze(0)\n",
        "    A_dagger1 = A_dagger1.unsqueeze(0).unsqueeze(0)  # Shape: (1, 1, kH, kW)\n",
        "\n",
        "    A_dagger1 = A_dagger1.cuda()\n",
        "    # Perform 2D convolution with dynamic padding\n",
        "    conv_output = torch.stack(([F.conv2d(img.squeeze(0).unsqueeze(0).unsqueeze(0), A_dagger1, padding=padding) for img in output])).squeeze(1)\n",
        "\n",
        "    # print(conv_output.shape, target.shape)\n",
        "\n",
        "    l_sup = torch.nn.functional.l1_loss(conv_output, target) / (target.norm(p=1) + 1e-8)\n",
        "    blurred_output = blur_operator(conv_output)\n",
        "    l_self = torch.nn.functional.l1_loss(measurement, blurred_output) / (measurement.norm(p=1) + 1e-8)\n",
        "    return l_sup + l_self"
      ],
      "metadata": {
        "id": "2DZvgblfuDvn"
      },
      "execution_count": null,
      "outputs": []
    },
    {
      "cell_type": "code",
      "execution_count": null,
      "metadata": {
        "id": "fk7wuEKjIR4U"
      },
      "outputs": [],
      "source": [
        "def compute_accuracy(output, target, threshold=0.05):\n",
        "    return ((torch.abs(output - target) < threshold).float().mean() * 100).item()"
      ]
    },
    {
      "cell_type": "code",
      "execution_count": null,
      "metadata": {
        "id": "U5yhjNy2I_Mm"
      },
      "outputs": [],
      "source": [
        "def compute_psnr(output, target):\n",
        "    output = output.squeeze()  # Ensure matching shape\n",
        "    target = target.squeeze()\n",
        "    mse = torch.nn.functional.mse_loss(output, target)\n",
        "    return 20 * torch.log10(1.0 / torch.sqrt(mse)).item()"
      ]
    },
    {
      "cell_type": "code",
      "source": [
        "A_sigma1 * A_dagger1"
      ],
      "metadata": {
        "colab": {
          "base_uri": "https://localhost:8080/"
        },
        "id": "WEw3_KajcrLR",
        "outputId": "85b47109-3eab-403d-ab35-e538a1829d92"
      },
      "execution_count": null,
      "outputs": [
        {
          "output_type": "execute_result",
          "data": {
            "text/plain": [
              "tensor([[[1.0679e-04, 2.1449e-03, 5.8305e-03, 2.1449e-03, 1.0679e-04],\n",
              "         [2.1449e-03, 4.3082e-02, 1.1711e-01, 4.3082e-02, 2.1449e-03],\n",
              "         [5.8305e-03, 1.1711e-01, 3.1833e-01, 1.1711e-01, 5.8305e-03],\n",
              "         [2.1449e-03, 4.3082e-02, 1.1711e-01, 4.3082e-02, 2.1449e-03],\n",
              "         [1.0679e-04, 2.1449e-03, 5.8305e-03, 2.1449e-03, 1.0679e-04]]],\n",
              "       grad_fn=<MulBackward0>)"
            ]
          },
          "metadata": {},
          "execution_count": 15
        }
      ]
    },
    {
      "cell_type": "code",
      "execution_count": null,
      "metadata": {
        "colab": {
          "base_uri": "https://localhost:8080/"
        },
        "id": "JRkAQo9pi4LA",
        "outputId": "9fc50f2c-70dc-4052-a753-5a5b6b98eccd"
      },
      "outputs": [
        {
          "output_type": "stream",
          "name": "stdout",
          "text": [
            "Epoch 1/7\n",
            "Epoch 1, Accuracy: 93.97%, PSNR: 32.38 dB\n",
            "Epoch 2/7\n",
            "Epoch 2, Accuracy: 98.63%, PSNR: 38.78 dB\n",
            "Epoch 3/7\n",
            "Epoch 3, Accuracy: 99.79%, PSNR: 42.31 dB\n",
            "Epoch 4/7\n",
            "Epoch 4, Accuracy: 99.91%, PSNR: 44.09 dB\n",
            "Epoch 5/7\n",
            "Epoch 5, Accuracy: 99.97%, PSNR: 45.54 dB\n",
            "Epoch 6/7\n",
            "Epoch 6, Accuracy: 99.99%, PSNR: 46.94 dB\n",
            "Epoch 7/7\n",
            "Epoch 7, Accuracy: 99.99%, PSNR: 47.94 dB\n",
            "Test-Time Training Accuracy: 73.92%, PSNR: 16.05 dB\n"
          ]
        }
      ],
      "source": [
        "#TTT code\n",
        "\n",
        "model = UNet().cuda()\n",
        "optimizer = optim.Adam(model.parameters(), lr=1e-3)\n",
        "\n",
        "epochs = 7\n",
        "for epoch in range(epochs):\n",
        "    print(f\"Epoch {epoch+1}/{epochs}\")\n",
        "    model.train()\n",
        "    total_accuracy = 0\n",
        "    total_psnr = 0\n",
        "    for clean_images, _ in train_loader:\n",
        "        clean_images = clean_images.cuda()\n",
        "        blurred_images = torch.stack([apply_gaussian_blur(img, sigma=sigma1, kernel_size = kernel_size) for img in clean_images]).cuda()\n",
        "        optimizer.zero_grad()\n",
        "        # plt.imshow(blurred_images[0, 0].detach().cpu().numpy(), cmap='gray')\n",
        "        # plt.show()\n",
        "        outputs = model(blurred_images)\n",
        "        loss = loss_fn_no_TTT(outputs, clean_images, blurred_images, lambda x: torch.stack([apply_gaussian_blur(img, sigma=sigma1, kernel_size = kernel_size) for img in x]).cuda())\n",
        "        loss.backward()\n",
        "        optimizer.step()\n",
        "\n",
        "        total_accuracy += compute_accuracy(outputs, clean_images)\n",
        "        total_psnr += compute_psnr(outputs, clean_images)\n",
        "    print(f\"Epoch {epoch+1}, Accuracy: {total_accuracy / len(train_loader):.2f}%, PSNR: {total_psnr / len(train_loader):.2f} dB\")\n",
        "\n",
        "# Test-Time Training (TTT)\n",
        "def test_time_training(image):\n",
        "    model.train()\n",
        "    blurred_image = apply_gaussian_blur(image, sigma=sigma2, kernel_size = kernel_size).unsqueeze(0).cuda()\n",
        "    optimizer = optim.Adam(model.parameters(), lr=1e-4)\n",
        "    for _ in range(10):\n",
        "        optimizer.zero_grad()\n",
        "        output = model(blurred_image)\n",
        "        blurred_output = apply_gaussian_blur(output, sigma=sigma1, kernel_size=kernel_size).cuda()\n",
        "        blurred_output.requires_grad = True\n",
        "        l_self = torch.nn.functional.l1_loss(blurred_image, blurred_output) / (blurred_image.norm(p=1) + 1e-8)\n",
        "        l_self.backward()\n",
        "        optimizer.step()\n",
        "    return model(blurred_image).cpu()\n",
        "\n",
        "# Inference with TTT\n",
        "for clean_images, _ in test_loader:\n",
        "    outputs = [test_time_training(img) for img in clean_images]\n",
        "    outputs = torch.stack(outputs).squeeze().cuda()\n",
        "    clean_images = clean_images.squeeze().cuda()\n",
        "    accuracy = compute_accuracy(outputs, clean_images)\n",
        "    psnr = compute_psnr(outputs, clean_images)\n",
        "    print(f\"Test-Time Training Accuracy: {accuracy:.2f}%, PSNR: {psnr:.2f} dB\")\n",
        "    break\n"
      ]
    },
    {
      "cell_type": "code",
      "execution_count": null,
      "metadata": {
        "id": "bu3Q6-IkI9sn",
        "colab": {
          "base_uri": "https://localhost:8080/",
          "height": 716
        },
        "outputId": "a2d615a7-7810-4c16-dd87-d55648caf824"
      },
      "outputs": [
        {
          "output_type": "stream",
          "name": "stdout",
          "text": [
            "Epoch 1/7\n",
            "Epoch 1, Accuracy: 94.99%, PSNR: 33.54 dB\n",
            "Epoch 2/7\n",
            "Epoch 2, Accuracy: 99.51%, PSNR: 40.62 dB\n",
            "Epoch 3/7\n",
            "Epoch 3, Accuracy: 99.80%, PSNR: 42.44 dB\n",
            "Epoch 4/7\n",
            "Epoch 4, Accuracy: 99.95%, PSNR: 45.13 dB\n",
            "Epoch 5/7\n",
            "Epoch 5, Accuracy: 99.97%, PSNR: 45.95 dB\n",
            "Epoch 6/7\n",
            "Epoch 6, Accuracy: 99.99%, PSNR: 46.92 dB\n",
            "Epoch 7/7\n",
            "Epoch 7, Accuracy: 99.99%, PSNR: 47.70 dB\n",
            "torch.Size([32, 28, 28])\n"
          ]
        },
        {
          "output_type": "display_data",
          "data": {
            "text/plain": [
              "<Figure size 1500x500 with 3 Axes>"
            ],
            "image/png": "[encoded data removed]"
          },
          "metadata": {}
        },
        {
          "output_type": "stream",
          "name": "stdout",
          "text": [
            "NO Test-Time Training Accuracy: 75.98%, PSNR: 22.06 dB\n"
          ]
        }
      ],
      "source": [
        "#NO TTT Code\n",
        "\n",
        "model = UNet().cuda()\n",
        "optimizer = optim.Adam(model.parameters(), lr=1e-3)\n",
        "\n",
        "epochs = 7\n",
        "for epoch in range(epochs):\n",
        "    print(f\"Epoch {epoch+1}/{epochs}\")\n",
        "    model.train()\n",
        "    total_accuracy = 0\n",
        "    total_psnr = 0\n",
        "    for clean_images, _ in train_loader:\n",
        "        clean_images = clean_images.cuda()\n",
        "        blurred_images = torch.stack([apply_gaussian_blur(img, sigma=sigma1, kernel_size=kernel_size) for img in clean_images]).cuda()\n",
        "        optimizer.zero_grad()\n",
        "        # plt.imshow(blurred_images[0, 0].detach().cpu().numpy(), cmap='gray')\n",
        "        # plt.show()\n",
        "        outputs = model(blurred_images)\n",
        "        loss = loss_fn_no_TTT(outputs, clean_images, blurred_images, lambda x: torch.stack([apply_gaussian_blur(img, sigma=sigma1) for img in x]).cuda())\n",
        "        loss.backward()\n",
        "        optimizer.step()\n",
        "\n",
        "        total_accuracy += compute_accuracy(outputs, clean_images)\n",
        "        total_psnr += compute_psnr(outputs, clean_images)\n",
        "    print(f\"Epoch {epoch+1}, Accuracy: {total_accuracy / len(train_loader):.2f}%, PSNR: {total_psnr / len(train_loader):.2f} dB\")\n",
        "\n",
        "\n",
        "# No TTT\n",
        "for clean_images, _ in test_loader:\n",
        "    # outputs = [test_time_training(img) for img in clean_images]\n",
        "    #Without test time training\n",
        "    blurred_images = torch.stack([apply_gaussian_blur(img, sigma=sigma2, kernel_size=kernel_size) for img in clean_images]).cuda()\n",
        "    outputs = model(blurred_images.cuda()).squeeze().cuda()\n",
        "    blurred_images = blurred_images.squeeze().cuda()\n",
        "    clean_images = clean_images.squeeze().cuda()\n",
        "    fig, axes = plt.subplots(1, 3, figsize=(15, 5))\n",
        "    print(blurred_images.shape)\n",
        "    k=4\n",
        "\n",
        "    axes[0].imshow(clean_images[k].detach().cpu(), cmap='gray')\n",
        "    axes[0].set_title(\"clean_images[0]\")\n",
        "\n",
        "    axes[1].imshow(blurred_images[k].detach().cpu(), cmap='gray')\n",
        "    axes[1].set_title(\"blurred_images[0]\")\n",
        "\n",
        "    axes[2].imshow(outputs[k].detach().cpu(), cmap='gray')\n",
        "    axes[2].set_title(\"outputs[0]\")\n",
        "\n",
        "    plt.show()\n",
        "\n",
        "    accuracy = compute_accuracy(outputs, blurred_images)\n",
        "    psnr = compute_psnr(outputs, blurred_images)\n",
        "    print(f\"NO Test-Time Training Accuracy: {accuracy:.2f}%, PSNR: {psnr:.2f} dB\")\n",
        "    break\n"
      ]
    },
    {
      "cell_type": "code",
      "source": [
        "#A dagger code with TTT\n",
        "#TTT code\n",
        "\n",
        "model = UNet().cuda()\n",
        "optimizer = optim.Adam(model.parameters(), lr=1e-3)\n",
        "\n",
        "epochs = 3\n",
        "for epoch in range(epochs):\n",
        "    print(f\"Epoch {epoch+1}/{epochs}\")\n",
        "    model.train()\n",
        "    total_accuracy = 0\n",
        "    total_psnr = 0\n",
        "    for clean_images, _ in train_loader:\n",
        "        clean_images = clean_images.cuda()\n",
        "        blurred_images = torch.stack([apply_gaussian_blur(img, sigma=sigma1, kernel_size = kernel_size) for img in clean_images]).cuda()\n",
        "        optimizer.zero_grad()\n",
        "        # plt.imshow(blurred_images[0, 0].detach().cpu().numpy(), cmap='gray')\n",
        "        # plt.show()\n",
        "        outputs = model(blurred_images)\n",
        "        loss = loss_with_A_dagger(outputs, clean_images, blurred_images, lambda x: torch.stack([apply_gaussian_blur(img, sigma=sigma1, kernel_size = kernel_size) for img in x]).cuda(), A_dagger1)\n",
        "        loss.backward(retain_graph=True)\n",
        "        optimizer.step()\n",
        "\n",
        "        total_accuracy += compute_accuracy(outputs, clean_images)\n",
        "        total_psnr += compute_psnr(outputs, clean_images)\n",
        "    print(f\"Epoch {epoch+1}, Accuracy: {total_accuracy / len(train_loader):.2f}%, PSNR: {total_psnr / len(train_loader):.2f} dB\")\n",
        "\n",
        "# Test-Time Training (TTT)\n",
        "def test_time_training(image):\n",
        "    model.train()\n",
        "    blurred_image = apply_gaussian_blur(image, sigma=sigma2, kernel_size = kernel_size).unsqueeze(0).cuda()\n",
        "    optimizer = optim.Adam(model.parameters(), lr=1e-4)\n",
        "    for _ in range(10):\n",
        "\n",
        "        padding = (kernel_size - 1) // 2\n",
        "\n",
        "        optimizer.zero_grad()\n",
        "        output = model(blurred_image)\n",
        "        conv_output =F.conv2d(output, A_dagger1.squeeze(0).unsqueeze(0).unsqueeze(0).cuda(), padding=padding).squeeze(1)\n",
        "\n",
        "        blurred_output = apply_gaussian_blur(conv_output, sigma=sigma1, kernel_size=kernel_size).cuda()\n",
        "        blurred_output.requires_grad = True\n",
        "        blurred_output = blurred_output.unsqueeze(0)\n",
        "        # print(blurred_image.shape, blurred_output.shape)\n",
        "        l_self = torch.nn.functional.l1_loss(blurred_image, blurred_output) / (blurred_image.norm(p=1) + 1e-8)\n",
        "        l_self.backward(retain_graph=True)\n",
        "        optimizer.step()\n",
        "    return model(blurred_image).cpu()\n",
        "\n",
        "# Inference with TTT\n",
        "for clean_images, _ in test_loader:\n",
        "    outputs = [test_time_training(img) for img in clean_images]\n",
        "    outputs = torch.stack(outputs).squeeze().cuda()\n",
        "    clean_images = clean_images.squeeze().cuda()\n",
        "    accuracy = compute_accuracy(outputs, clean_images)\n",
        "    psnr = compute_psnr(outputs, clean_images)\n",
        "    print(f\"Test-Time Training Accuracy: {accuracy:.2f}%, PSNR: {psnr:.2f} dB\")\n",
        "    break\n"
      ],
      "metadata": {
        "colab": {
          "base_uri": "https://localhost:8080/"
        },
        "id": "285rzpUb5kmh",
        "outputId": "2d57ec81-1461-412d-d904-a59436a82717"
      },
      "execution_count": null,
      "outputs": [
        {
          "output_type": "stream",
          "name": "stdout",
          "text": [
            "Epoch 1/3\n",
            "Epoch 1, Accuracy: 77.15%, PSNR: 10.59 dB\n",
            "Epoch 2/3\n",
            "Epoch 2, Accuracy: 68.61%, PSNR: 10.62 dB\n",
            "Epoch 3/3\n",
            "Epoch 3, Accuracy: 63.94%, PSNR: 10.41 dB\n",
            "Test-Time Training Accuracy: 70.67%, PSNR: 10.30 dB\n"
          ]
        }
      ]
    },
    {
      "cell_type": "code",
      "source": [],
      "metadata": {
        "colab": {
          "base_uri": "https://localhost:8080/"
        },
        "id": "glJw_JgjCE1G",
        "outputId": "78ed384d-8bb7-4cea-9530-61633bedbba4"
      },
      "execution_count": null,
      "outputs": [
        {
          "output_type": "stream",
          "name": "stdout",
          "text": [
            "Test-Time Training Accuracy: 70.09%, PSNR: 10.34 dB\n"
          ]
        }
      ]
    }
  ],
  "metadata": {
    "accelerator": "GPU",
    "colab": {
      "gpuType": "T4",
      "provenance": []
    },
    "kernelspec": {
      "display_name": "Python 3",
      "name": "python3"
    },
    "language_info": {
      "name": "python"
    }
  },
  "nbformat": 4,
  "nbformat_minor": 0
}